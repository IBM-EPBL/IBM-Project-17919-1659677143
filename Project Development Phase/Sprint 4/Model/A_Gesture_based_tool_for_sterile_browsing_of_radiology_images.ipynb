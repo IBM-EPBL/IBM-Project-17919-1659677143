{
 "cells": [
  {
   "cell_type": "markdown",
   "id": "91913477",
   "metadata": {},
   "source": [
    "# Training the model"
   ]
  },
  {
   "cell_type": "markdown",
   "id": "bb7c39f5",
   "metadata": {},
   "source": [
    "### Importing packages"
   ]
  },
  {
   "cell_type": "code",
   "execution_count": 1,
   "id": "46de1a0e",
   "metadata": {},
   "outputs": [],
   "source": [
    "import numpy as np\n",
    "import tensorflow\n",
    "from tensorflow.keras.models import Sequential\n",
    "from tensorflow.keras import layers\n",
    "from tensorflow.keras.layers import Dense,Flatten, Dropout\n",
    "from tensorflow.keras.layers import Conv2D,MaxPooling2D\n",
    "from keras.preprocessing.image import ImageDataGenerator"
   ]
  },
  {
   "cell_type": "markdown",
   "id": "d346f98e",
   "metadata": {},
   "source": [
    "### Image Data Augmentation"
   ]
  },
  {
   "cell_type": "code",
   "execution_count": 2,
   "id": "18e0631e",
   "metadata": {},
   "outputs": [],
   "source": [
    "train_datagen = ImageDataGenerator(rescale=1./255, shear_range=0.2, zoom_range=0.2, horizontal_flip=True)\n",
    "test_datagen = ImageDataGenerator(rescale=1./255)"
   ]
  },
  {
   "cell_type": "markdown",
   "id": "ffac6a82",
   "metadata": {},
   "source": [
    "### Loading Our Data And Perform Data Augmentation"
   ]
  },
  {
   "cell_type": "code",
   "execution_count": 3,
   "id": "a8e64ae4",
   "metadata": {},
   "outputs": [
    {
     "name": "stdout",
     "output_type": "stream",
     "text": [
      "Found 594 images belonging to 6 classes.\n",
      "Found 30 images belonging to 6 classes.\n"
     ]
    }
   ],
   "source": [
    "x_train = train_datagen.flow_from_directory('../Dataset/train', target_size=(64, 64), batch_size=3, color_mode='grayscale', class_mode='categorical')\n",
    "x_test = test_datagen.flow_from_directory('../Dataset/test', target_size=(64, 64), batch_size=3, color_mode='grayscale', class_mode='categorical')"
   ]
  },
  {
   "cell_type": "code",
   "execution_count": 4,
   "id": "d9a6f7b4",
   "metadata": {},
   "outputs": [
    {
     "name": "stdout",
     "output_type": "stream",
     "text": [
      "{'0': 0, '1': 1, '2': 2, '3': 3, '4': 4, '5': 5}\n"
     ]
    }
   ],
   "source": [
    "print(x_train.class_indices)"
   ]
  },
  {
   "cell_type": "markdown",
   "id": "25414ba3",
   "metadata": {},
   "source": [
    "### Initializing the model"
   ]
  },
  {
   "cell_type": "code",
   "execution_count": 5,
   "id": "775c97be",
   "metadata": {},
   "outputs": [],
   "source": [
    "model=Sequential()"
   ]
  },
  {
   "cell_type": "markdown",
   "id": "02e39b25",
   "metadata": {},
   "source": [
    "### Adding CNN Layers"
   ]
  },
  {
   "cell_type": "code",
   "execution_count": 6,
   "id": "e15c6761",
   "metadata": {},
   "outputs": [],
   "source": [
    "model.add(Conv2D(32, (3, 3), input_shape=(64, 64, 1), activation='relu'))\n",
    "model.add(MaxPooling2D(pool_size=(2, 2)))"
   ]
  },
  {
   "cell_type": "code",
   "execution_count": 7,
   "id": "06a029b3",
   "metadata": {},
   "outputs": [],
   "source": [
    "model.add(Conv2D(32, (3, 3), activation='relu'))\n",
    "model.add(MaxPooling2D(pool_size=(2, 2)))"
   ]
  },
  {
   "cell_type": "code",
   "execution_count": 8,
   "id": "3f7c441b",
   "metadata": {},
   "outputs": [],
   "source": [
    "model.add(Flatten())"
   ]
  },
  {
   "cell_type": "markdown",
   "id": "69f2676d",
   "metadata": {},
   "source": [
    "### Adding Dense Layers"
   ]
  },
  {
   "cell_type": "code",
   "execution_count": 9,
   "id": "2212b2e6",
   "metadata": {},
   "outputs": [],
   "source": [
    "model.add(Dense(units=512, activation='relu'))"
   ]
  },
  {
   "cell_type": "code",
   "execution_count": 10,
   "id": "e6c5f0bc",
   "metadata": {},
   "outputs": [],
   "source": [
    "model.add(Dense(units=6, activation='softmax'))"
   ]
  },
  {
   "cell_type": "code",
   "execution_count": 11,
   "id": "431066d8",
   "metadata": {},
   "outputs": [
    {
     "name": "stdout",
     "output_type": "stream",
     "text": [
      "Model: \"sequential\"\n",
      "_________________________________________________________________\n",
      " Layer (type)                Output Shape              Param #   \n",
      "=================================================================\n",
      " conv2d (Conv2D)             (None, 62, 62, 32)        320       \n",
      "                                                                 \n",
      " max_pooling2d (MaxPooling2D  (None, 31, 31, 32)       0         \n",
      " )                                                               \n",
      "                                                                 \n",
      " conv2d_1 (Conv2D)           (None, 29, 29, 32)        9248      \n",
      "                                                                 \n",
      " max_pooling2d_1 (MaxPooling  (None, 14, 14, 32)       0         \n",
      " 2D)                                                             \n",
      "                                                                 \n",
      " flatten (Flatten)           (None, 6272)              0         \n",
      "                                                                 \n",
      " dense (Dense)               (None, 512)               3211776   \n",
      "                                                                 \n",
      " dense_1 (Dense)             (None, 6)                 3078      \n",
      "                                                                 \n",
      "=================================================================\n",
      "Total params: 3,224,422\n",
      "Trainable params: 3,224,422\n",
      "Non-trainable params: 0\n",
      "_________________________________________________________________\n"
     ]
    }
   ],
   "source": [
    "model.summary()"
   ]
  },
  {
   "cell_type": "markdown",
   "id": "232084e4",
   "metadata": {},
   "source": [
    "### Configure The Learning Process"
   ]
  },
  {
   "cell_type": "code",
   "execution_count": 12,
   "id": "310f16d8",
   "metadata": {},
   "outputs": [],
   "source": [
    "model.compile(optimizer='adam', loss='categorical_crossentropy', metrics=['accuracy'])"
   ]
  },
  {
   "cell_type": "markdown",
   "id": "fbece63d",
   "metadata": {},
   "source": [
    "# Train the model"
   ]
  },
  {
   "cell_type": "code",
   "execution_count": 13,
   "id": "2a06b250",
   "metadata": {
    "scrolled": false
   },
   "outputs": [
    {
     "name": "stderr",
     "output_type": "stream",
     "text": [
      "C:\\Users\\Chinna\\AppData\\Local\\Temp\\ipykernel_3428\\3209820412.py:1: UserWarning: `Model.fit_generator` is deprecated and will be removed in a future version. Please use `Model.fit`, which supports generators.\n",
      "  model.fit_generator(x_train,steps_per_epoch =594/3,epochs=25,validation_data=x_test,validation_steps=30/3)\n"
     ]
    },
    {
     "name": "stdout",
     "output_type": "stream",
     "text": [
      "Epoch 1/25\n",
      "198/198 [==============================] - 10s 47ms/step - loss: 1.3724 - accuracy: 0.4495 - val_loss: 0.9085 - val_accuracy: 0.7000\n",
      "Epoch 2/25\n",
      "198/198 [==============================] - 9s 44ms/step - loss: 0.5643 - accuracy: 0.7677 - val_loss: 0.5203 - val_accuracy: 0.7667\n",
      "Epoch 3/25\n",
      "198/198 [==============================] - 9s 44ms/step - loss: 0.4056 - accuracy: 0.8401 - val_loss: 0.3443 - val_accuracy: 0.8667\n",
      "Epoch 4/25\n",
      "198/198 [==============================] - 9s 45ms/step - loss: 0.2956 - accuracy: 0.8923 - val_loss: 0.4849 - val_accuracy: 0.8667\n",
      "Epoch 5/25\n",
      "198/198 [==============================] - 9s 46ms/step - loss: 0.2193 - accuracy: 0.9209 - val_loss: 0.2117 - val_accuracy: 0.9667\n",
      "Epoch 6/25\n",
      "198/198 [==============================] - 9s 45ms/step - loss: 0.1571 - accuracy: 0.9512 - val_loss: 0.3719 - val_accuracy: 0.8667\n",
      "Epoch 7/25\n",
      "198/198 [==============================] - 9s 44ms/step - loss: 0.1166 - accuracy: 0.9579 - val_loss: 0.3164 - val_accuracy: 0.9667\n",
      "Epoch 8/25\n",
      "198/198 [==============================] - 9s 45ms/step - loss: 0.1036 - accuracy: 0.9680 - val_loss: 0.2990 - val_accuracy: 0.9667\n",
      "Epoch 9/25\n",
      "198/198 [==============================] - 9s 45ms/step - loss: 0.0992 - accuracy: 0.9731 - val_loss: 0.4431 - val_accuracy: 0.8333\n",
      "Epoch 10/25\n",
      "198/198 [==============================] - 9s 45ms/step - loss: 0.0556 - accuracy: 0.9848 - val_loss: 0.4349 - val_accuracy: 0.9667\n",
      "Epoch 11/25\n",
      "198/198 [==============================] - 9s 45ms/step - loss: 0.0647 - accuracy: 0.9832 - val_loss: 0.2592 - val_accuracy: 0.9667\n",
      "Epoch 12/25\n",
      "198/198 [==============================] - 9s 45ms/step - loss: 0.0551 - accuracy: 0.9848 - val_loss: 0.2478 - val_accuracy: 0.9667\n",
      "Epoch 13/25\n",
      "198/198 [==============================] - 9s 45ms/step - loss: 0.0188 - accuracy: 0.9933 - val_loss: 0.3495 - val_accuracy: 0.9667\n",
      "Epoch 14/25\n",
      "198/198 [==============================] - 9s 45ms/step - loss: 0.0734 - accuracy: 0.9747 - val_loss: 0.4410 - val_accuracy: 0.9333\n",
      "Epoch 15/25\n",
      "198/198 [==============================] - 9s 44ms/step - loss: 0.0546 - accuracy: 0.9848 - val_loss: 0.4530 - val_accuracy: 0.9333\n",
      "Epoch 16/25\n",
      "198/198 [==============================] - 9s 45ms/step - loss: 0.0588 - accuracy: 0.9764 - val_loss: 0.3591 - val_accuracy: 0.9333\n",
      "Epoch 17/25\n",
      "198/198 [==============================] - 9s 44ms/step - loss: 0.0567 - accuracy: 0.9832 - val_loss: 1.0282 - val_accuracy: 0.8000\n",
      "Epoch 18/25\n",
      "198/198 [==============================] - 9s 46ms/step - loss: 0.0696 - accuracy: 0.9714 - val_loss: 0.2282 - val_accuracy: 0.9667\n",
      "Epoch 19/25\n",
      "198/198 [==============================] - 9s 45ms/step - loss: 0.0304 - accuracy: 0.9899 - val_loss: 0.2899 - val_accuracy: 0.9000\n",
      "Epoch 20/25\n",
      "198/198 [==============================] - 9s 46ms/step - loss: 0.0249 - accuracy: 0.9899 - val_loss: 0.3043 - val_accuracy: 0.9333\n",
      "Epoch 21/25\n",
      "198/198 [==============================] - 10s 51ms/step - loss: 0.0453 - accuracy: 0.9882 - val_loss: 0.3497 - val_accuracy: 0.9667\n",
      "Epoch 22/25\n",
      "198/198 [==============================] - 9s 46ms/step - loss: 0.0180 - accuracy: 0.9949 - val_loss: 0.4171 - val_accuracy: 0.9333\n",
      "Epoch 23/25\n",
      "198/198 [==============================] - 9s 45ms/step - loss: 0.0116 - accuracy: 0.9983 - val_loss: 0.2958 - val_accuracy: 0.9667\n",
      "Epoch 24/25\n",
      "198/198 [==============================] - 9s 46ms/step - loss: 0.0076 - accuracy: 0.9983 - val_loss: 0.2900 - val_accuracy: 0.9667\n",
      "Epoch 25/25\n",
      "198/198 [==============================] - 9s 45ms/step - loss: 0.0058 - accuracy: 0.9966 - val_loss: 0.3770 - val_accuracy: 0.9667\n"
     ]
    },
    {
     "data": {
      "text/plain": [
       "<keras.callbacks.History at 0x1e6d2a76550>"
      ]
     },
     "execution_count": 13,
     "metadata": {},
     "output_type": "execute_result"
    }
   ],
   "source": [
    "model.fit_generator(x_train,steps_per_epoch =594/3,epochs=25,validation_data=x_test,validation_steps=30/3)"
   ]
  },
  {
   "cell_type": "markdown",
   "id": "c2d48888",
   "metadata": {},
   "source": [
    "# Save the model"
   ]
  },
  {
   "cell_type": "code",
   "execution_count": 18,
   "id": "901c67be",
   "metadata": {},
   "outputs": [],
   "source": [
    "model.save('gesture.h5')"
   ]
  },
  {
   "cell_type": "code",
   "execution_count": 19,
   "id": "60061622",
   "metadata": {},
   "outputs": [],
   "source": [
    "model_json = model.to_json()\n",
    "with open(\"model-bw.json\", \"w\") as json_file:\n",
    "     json_file.write(model_json)"
   ]
  },
  {
   "cell_type": "markdown",
   "id": "94c9d265",
   "metadata": {},
   "source": [
    "# Test the model"
   ]
  },
  {
   "cell_type": "code",
   "execution_count": 15,
   "id": "88631917",
   "metadata": {},
   "outputs": [],
   "source": [
    "import numpy as np\n",
    "from tensorflow.keras.models import load_model\n",
    "from tensorflow.keras.preprocessing import image\n",
    "model = load_model(\"gesture.h5\")"
   ]
  },
  {
   "cell_type": "code",
   "execution_count": 16,
   "id": "bc10a25d",
   "metadata": {},
   "outputs": [
    {
     "name": "stderr",
     "output_type": "stream",
     "text": [
      "C:\\Users\\Chinna\\anaconda3\\lib\\site-packages\\keras\\utils\\image_utils.py:409: UserWarning: grayscale is deprecated. Please use color_mode = \"grayscale\"\n",
      "  warnings.warn(\n"
     ]
    },
    {
     "data": {
      "text/plain": [
       "(64, 64, 1)"
      ]
     },
     "execution_count": 16,
     "metadata": {},
     "output_type": "execute_result"
    }
   ],
   "source": [
    "img = image.load_img(r'../Dataset/test/1/1.jpg', grayscale=True, target_size=(64,64))\n",
    "x = image.img_to_array(img)\n",
    "x.shape"
   ]
  },
  {
   "cell_type": "code",
   "execution_count": 17,
   "id": "6fa5835b",
   "metadata": {},
   "outputs": [
    {
     "data": {
      "text/plain": [
       "(1, 64, 64, 1)"
      ]
     },
     "execution_count": 17,
     "metadata": {},
     "output_type": "execute_result"
    }
   ],
   "source": [
    "x = np.expand_dims(x,axis=0)\n",
    "x.shape"
   ]
  },
  {
   "cell_type": "code",
   "execution_count": 18,
   "id": "61c44729",
   "metadata": {},
   "outputs": [
    {
     "name": "stdout",
     "output_type": "stream",
     "text": [
      "1/1 [==============================] - 0s 163ms/step\n"
     ]
    },
    {
     "data": {
      "text/plain": [
       "array([1], dtype=int64)"
      ]
     },
     "execution_count": 18,
     "metadata": {},
     "output_type": "execute_result"
    }
   ],
   "source": [
    "pred_x = model.predict(x)\n",
    "pred_x=np.argmax(pred_x,axis=1)\n",
    "pred_x"
   ]
  },
  {
   "cell_type": "code",
   "execution_count": 19,
   "id": "8795661e",
   "metadata": {},
   "outputs": [
    {
     "data": {
      "text/plain": [
       "'1'"
      ]
     },
     "execution_count": 19,
     "metadata": {},
     "output_type": "execute_result"
    }
   ],
   "source": [
    "index=['0', '1', '2', '3', '4', '5']\n",
    "result=str(index[pred_x[0]])\n",
    "result"
   ]
  },
  {
   "cell_type": "code",
   "execution_count": 20,
   "id": "14b69ded",
   "metadata": {},
   "outputs": [
    {
     "name": "stdout",
     "output_type": "stream",
     "text": [
      "1/1 [==============================] - 0s 32ms/step\n",
      "1/1 [==============================] - 0s 24ms/step\n",
      "1/1 [==============================] - 0s 41ms/step\n",
      "1/1 [==============================] - 0s 40ms/step\n",
      "1/1 [==============================] - 0s 46ms/step\n",
      "1/1 [==============================] - 0s 31ms/step\n",
      "1/1 [==============================] - 0s 31ms/step\n",
      "1/1 [==============================] - 0s 39ms/step\n",
      "1/1 [==============================] - 0s 31ms/step\n",
      "1/1 [==============================] - 0s 32ms/step\n",
      "1/1 [==============================] - 0s 39ms/step\n",
      "1/1 [==============================] - 0s 47ms/step\n",
      "1/1 [==============================] - 0s 31ms/step\n",
      "1/1 [==============================] - 0s 24ms/step\n",
      "1/1 [==============================] - 0s 31ms/step\n",
      "1/1 [==============================] - 0s 32ms/step\n",
      "1/1 [==============================] - 0s 40ms/step\n",
      "1/1 [==============================] - 0s 31ms/step\n",
      "1/1 [==============================] - 0s 40ms/step\n",
      "1/1 [==============================] - 0s 32ms/step\n",
      "1/1 [==============================] - 0s 47ms/step\n",
      "1/1 [==============================] - 0s 32ms/step\n",
      "1/1 [==============================] - 0s 32ms/step\n",
      "1/1 [==============================] - 0s 33ms/step\n",
      "1/1 [==============================] - 0s 32ms/step\n",
      "1/1 [==============================] - 0s 38ms/step\n",
      "1/1 [==============================] - 0s 41ms/step\n",
      "1/1 [==============================] - 0s 31ms/step\n",
      "1/1 [==============================] - 0s 33ms/step\n",
      "1/1 [==============================] - 0s 32ms/step\n",
      "[array([0], dtype=int64), array([0], dtype=int64), array([0], dtype=int64), array([0], dtype=int64), array([0], dtype=int64), array([1], dtype=int64), array([1], dtype=int64), array([1], dtype=int64), array([1], dtype=int64), array([1], dtype=int64), array([2], dtype=int64), array([2], dtype=int64), array([1], dtype=int64), array([2], dtype=int64), array([2], dtype=int64), array([3], dtype=int64), array([3], dtype=int64), array([3], dtype=int64), array([3], dtype=int64), array([3], dtype=int64), array([4], dtype=int64), array([4], dtype=int64), array([4], dtype=int64), array([4], dtype=int64), array([4], dtype=int64), array([5], dtype=int64), array([5], dtype=int64), array([5], dtype=int64), array([5], dtype=int64), array([5], dtype=int64)]\n"
     ]
    }
   ],
   "source": [
    "import numpy as np\n",
    "p=[]\n",
    "for i in range(0,6):\n",
    "  for j in range(0,5):\n",
    "    img = image.load_img(r\"../Dataset/test//\"+str(i)+\"//\"+str(j)+\".jpg\", grayscale=True, target_size=(64,64))\n",
    "    x = image.img_to_array(img)\n",
    "    x = np.expand_dims(x,axis=0)\n",
    "    pred = np.argmax(model.predict(x),axis=-1)\n",
    "    p.append(pred)\n",
    "print(p)"
   ]
  },
  {
   "cell_type": "code",
   "execution_count": 21,
   "id": "0fe6f688",
   "metadata": {},
   "outputs": [
    {
     "name": "stdout",
     "output_type": "stream",
     "text": [
      "['0', '0', '0', '0', '0', '1', '1', '1', '1', '1', '2', '2', '1', '2', '2', '3', '3', '3', '3', '3', '4', '4', '4', '4', '4', '5', '5', '5', '5', '5']\n"
     ]
    }
   ],
   "source": [
    "result = []\n",
    "index=['0','1','2','3','4','5']\n",
    "for i in p:\n",
    "  result.append(index[i[0]])\n",
    "print(result)"
   ]
  },
  {
   "cell_type": "code",
   "execution_count": 24,
   "id": "5d140133",
   "metadata": {},
   "outputs": [
    {
     "name": "stdout",
     "output_type": "stream",
     "text": [
      "Populating the interactive namespace from numpy and matplotlib\n"
     ]
    },
    {
     "data": {
      "image/png": "[encoded data removed]",
      "text/plain": [
       "<Figure size 640x480 with 1 Axes>"
      ]
     },
     "metadata": {},
     "output_type": "display_data"
    }
   ],
   "source": [
    "%pylab inline\n",
    "import matplotlib.pyplot as plt\n",
    "import matplotlib.image as mpimg\n",
    "imgs = mpimg.imread(r'..\\Dataset\\test\\5\\0.jpg')\n",
    "imgplot = plt.imshow(imgs)\n",
    "plt.show()"
   ]
  }
 ],
 "metadata": {
  "kernelspec": {
   "display_name": "Python 3 (ipykernel)",
   "language": "python",
   "name": "python3"
  },
  "language_info": {
   "codemirror_mode": {
    "name": "ipython",
    "version": 3
   },
   "file_extension": ".py",
   "mimetype": "text/x-python",
   "name": "python",
   "nbconvert_exporter": "python",
   "pygments_lexer": "ipython3",
   "version": "3.9.13"
  }
 },
 "nbformat": 4,
 "nbformat_minor": 5
}
