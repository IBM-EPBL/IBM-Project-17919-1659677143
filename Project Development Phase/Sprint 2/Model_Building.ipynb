{
 "cells": [
  {
   "cell_type": "markdown",
   "id": "4abd7323",
   "metadata": {},
   "source": [
    "# Image Preprocessing"
   ]
  },
  {
   "cell_type": "markdown",
   "id": "360a21d7",
   "metadata": {},
   "source": [
    "### Import The ImageDataGenerator Library"
   ]
  },
  {
   "cell_type": "code",
   "execution_count": 1,
   "id": "8585d191",
   "metadata": {},
   "outputs": [],
   "source": [
    "from keras.preprocessing.image import ImageDataGenerator"
   ]
  },
  {
   "cell_type": "markdown",
   "id": "a16443bd",
   "metadata": {},
   "source": [
    "### Configure ImageDataGenerator Class"
   ]
  },
  {
   "cell_type": "code",
   "execution_count": 2,
   "id": "02b73a4a",
   "metadata": {},
   "outputs": [],
   "source": [
    "train_datagen = ImageDataGenerator(rescale=1./255,shear_range=0.2,zoom_range=0.2,horizontal_flip=True)\n",
    "test_datagen = ImageDataGenerator(rescale=1./255)"
   ]
  },
  {
   "cell_type": "markdown",
   "id": "9ea78d59",
   "metadata": {},
   "source": [
    "### Apply ImageDataGenerator Functionality To Trainset And Testset"
   ]
  },
  {
   "cell_type": "markdown",
   "id": "dd1b2348",
   "metadata": {},
   "source": [
    "###### Loading our data and performing data agumentation"
   ]
  },
  {
   "cell_type": "code",
   "execution_count": 4,
   "id": "fb65a624",
   "metadata": {},
   "outputs": [
    {
     "name": "stdout",
     "output_type": "stream",
     "text": [
      "Found 594 images belonging to 6 classes.\n",
      "Found 30 images belonging to 6 classes.\n"
     ]
    }
   ],
   "source": [
    "x_train = train_datagen.flow_from_directory('../Dataset/train', \n",
    "                                            target_size=(64, 64), batch_size=5, color_mode='grayscale', class_mode='categorical')\n",
    "x_test = test_datagen.flow_from_directory('../Dataset/test', \n",
    "                                          target_size=(64, 64), batch_size=5, color_mode='grayscale', class_mode='categorical')"
   ]
  },
  {
   "cell_type": "markdown",
   "id": "b8d0c8c1",
   "metadata": {},
   "source": [
    "# Model Building"
   ]
  },
  {
   "cell_type": "markdown",
   "id": "9fa08741",
   "metadata": {},
   "source": [
    "### Importing The Model Building Libraries"
   ]
  },
  {
   "cell_type": "code",
   "execution_count": 5,
   "id": "1eb5dbf2",
   "metadata": {},
   "outputs": [],
   "source": [
    "import numpy as np\n",
    "import tensorflow\n",
    "from tensorflow.keras.models import Sequential\n",
    "from tensorflow.keras import layers\n",
    "from tensorflow.keras.layers import Dense, Flatten\n",
    "from tensorflow.keras.layers import Conv2D, MaxPooling2D\n",
    "from keras.preprocessing.image import ImageDataGenerator"
   ]
  },
  {
   "cell_type": "markdown",
   "id": "c712b87b",
   "metadata": {},
   "source": [
    "### Initializing The Model"
   ]
  },
  {
   "cell_type": "code",
   "execution_count": 6,
   "id": "d41d0d8d",
   "metadata": {},
   "outputs": [],
   "source": [
    "classifier = Sequential()"
   ]
  },
  {
   "cell_type": "markdown",
   "id": "9e71b251",
   "metadata": {},
   "source": [
    "### Adding CNN Layers"
   ]
  },
  {
   "cell_type": "code",
   "execution_count": 7,
   "id": "6f36eb3c",
   "metadata": {},
   "outputs": [],
   "source": [
    "classifier.add(Conv2D(32, (3, 3), input_shape=(64, 64, 1) ,activation='relu'))\n",
    "classifier.add(MaxPooling2D(pool_size=(2, 2)))\n",
    "classifier.add(Conv2D(32, (3, 3), activation='relu'))\n",
    "classifier.add(MaxPooling2D(pool_size=(2, 2)))\n",
    "classifier.add(Flatten())"
   ]
  },
  {
   "cell_type": "markdown",
   "id": "96c445b4",
   "metadata": {},
   "source": [
    "### Adding Dense Layers"
   ]
  },
  {
   "cell_type": "code",
   "execution_count": 8,
   "id": "1f536255",
   "metadata": {},
   "outputs": [],
   "source": [
    "classifier.add(Dense(units=128, activation='relu'))\n",
    "classifier.add(Dense(units=6, activation='softmax'))"
   ]
  },
  {
   "cell_type": "code",
   "execution_count": 9,
   "id": "a3ec9de8",
   "metadata": {},
   "outputs": [
    {
     "name": "stdout",
     "output_type": "stream",
     "text": [
      "Model: \"sequential\"\n",
      "_________________________________________________________________\n",
      " Layer (type)                Output Shape              Param #   \n",
      "=================================================================\n",
      " conv2d (Conv2D)             (None, 62, 62, 32)        320       \n",
      "                                                                 \n",
      " max_pooling2d (MaxPooling2D  (None, 31, 31, 32)       0         \n",
      " )                                                               \n",
      "                                                                 \n",
      " conv2d_1 (Conv2D)           (None, 29, 29, 32)        9248      \n",
      "                                                                 \n",
      " max_pooling2d_1 (MaxPooling  (None, 14, 14, 32)       0         \n",
      " 2D)                                                             \n",
      "                                                                 \n",
      " flatten (Flatten)           (None, 6272)              0         \n",
      "                                                                 \n",
      " dense (Dense)               (None, 128)               802944    \n",
      "                                                                 \n",
      " dense_1 (Dense)             (None, 6)                 774       \n",
      "                                                                 \n",
      "=================================================================\n",
      "Total params: 813,286\n",
      "Trainable params: 813,286\n",
      "Non-trainable params: 0\n",
      "_________________________________________________________________\n"
     ]
    }
   ],
   "source": [
    "classifier.summary()"
   ]
  },
  {
   "cell_type": "markdown",
   "id": "3085781c",
   "metadata": {},
   "source": [
    "# Configure The Learning Process\n",
    "\n",
    "##### Compiling the model"
   ]
  },
  {
   "cell_type": "code",
   "execution_count": 10,
   "id": "b1d5784d",
   "metadata": {},
   "outputs": [],
   "source": [
    "classifier.compile(optimizer='adam', loss='categorical_crossentropy', metrics=['accuracy'])"
   ]
  },
  {
   "cell_type": "markdown",
   "id": "f717a82b",
   "metadata": {},
   "source": [
    "# Train the Model"
   ]
  },
  {
   "cell_type": "code",
   "execution_count": 11,
   "id": "bd1940f9",
   "metadata": {},
   "outputs": [
    {
     "name": "stderr",
     "output_type": "stream",
     "text": [
      "C:\\Users\\Chinna\\AppData\\Local\\Temp\\ipykernel_10296\\2617134232.py:1: UserWarning: `Model.fit_generator` is deprecated and will be removed in a future version. Please use `Model.fit`, which supports generators.\n",
      "  classifier.fit_generator(\n"
     ]
    },
    {
     "name": "stdout",
     "output_type": "stream",
     "text": [
      "Epoch 1/20\n",
      "119/119 [==============================] - 13s 104ms/step - loss: 1.3979 - accuracy: 0.4428 - val_loss: 0.9501 - val_accuracy: 0.6000\n",
      "Epoch 2/20\n",
      "119/119 [==============================] - 4s 33ms/step - loss: 0.7114 - accuracy: 0.7273 - val_loss: 0.5290 - val_accuracy: 0.8667\n",
      "Epoch 3/20\n",
      "119/119 [==============================] - 4s 32ms/step - loss: 0.5059 - accuracy: 0.8098 - val_loss: 0.6474 - val_accuracy: 0.7667\n",
      "Epoch 4/20\n",
      "119/119 [==============================] - 4s 32ms/step - loss: 0.3866 - accuracy: 0.8535 - val_loss: 0.3826 - val_accuracy: 0.9000\n",
      "Epoch 5/20\n",
      "119/119 [==============================] - 4s 33ms/step - loss: 0.3003 - accuracy: 0.8990 - val_loss: 0.3926 - val_accuracy: 0.8667\n",
      "Epoch 6/20\n",
      "119/119 [==============================] - 4s 34ms/step - loss: 0.2332 - accuracy: 0.9108 - val_loss: 0.2659 - val_accuracy: 0.9333\n",
      "Epoch 7/20\n",
      "119/119 [==============================] - 4s 36ms/step - loss: 0.1898 - accuracy: 0.9411 - val_loss: 0.2146 - val_accuracy: 0.8333\n",
      "Epoch 8/20\n",
      "119/119 [==============================] - 4s 35ms/step - loss: 0.1193 - accuracy: 0.9630 - val_loss: 0.5407 - val_accuracy: 0.7667\n",
      "Epoch 9/20\n",
      "119/119 [==============================] - 4s 34ms/step - loss: 0.1500 - accuracy: 0.9327 - val_loss: 0.5329 - val_accuracy: 0.8667\n",
      "Epoch 10/20\n",
      "119/119 [==============================] - 4s 32ms/step - loss: 0.1165 - accuracy: 0.9630 - val_loss: 0.2173 - val_accuracy: 0.9667\n",
      "Epoch 11/20\n",
      "119/119 [==============================] - 4s 32ms/step - loss: 0.0825 - accuracy: 0.9680 - val_loss: 0.3554 - val_accuracy: 0.9000\n",
      "Epoch 12/20\n",
      "119/119 [==============================] - 4s 32ms/step - loss: 0.1475 - accuracy: 0.9428 - val_loss: 0.2254 - val_accuracy: 0.9667\n",
      "Epoch 13/20\n",
      "119/119 [==============================] - 4s 32ms/step - loss: 0.0737 - accuracy: 0.9731 - val_loss: 0.1889 - val_accuracy: 0.9667\n",
      "Epoch 14/20\n",
      "119/119 [==============================] - 4s 32ms/step - loss: 0.0886 - accuracy: 0.9646 - val_loss: 0.1941 - val_accuracy: 0.9667\n",
      "Epoch 15/20\n",
      "119/119 [==============================] - 4s 32ms/step - loss: 0.0820 - accuracy: 0.9731 - val_loss: 0.4662 - val_accuracy: 0.9000\n",
      "Epoch 16/20\n",
      "119/119 [==============================] - 4s 32ms/step - loss: 0.0350 - accuracy: 0.9899 - val_loss: 0.2612 - val_accuracy: 0.9667\n",
      "Epoch 17/20\n",
      "119/119 [==============================] - 4s 32ms/step - loss: 0.0534 - accuracy: 0.9781 - val_loss: 0.3410 - val_accuracy: 0.9000\n",
      "Epoch 18/20\n",
      "119/119 [==============================] - 4s 32ms/step - loss: 0.0493 - accuracy: 0.9865 - val_loss: 0.3672 - val_accuracy: 0.9000\n",
      "Epoch 19/20\n",
      "119/119 [==============================] - 4s 33ms/step - loss: 0.0728 - accuracy: 0.9731 - val_loss: 0.2025 - val_accuracy: 0.9333\n",
      "Epoch 20/20\n",
      "119/119 [==============================] - 4s 33ms/step - loss: 0.0372 - accuracy: 0.9899 - val_loss: 0.2307 - val_accuracy: 0.9333\n"
     ]
    },
    {
     "data": {
      "text/plain": [
       "<keras.callbacks.History at 0x1f01dd0e1f0>"
      ]
     },
     "execution_count": 11,
     "metadata": {},
     "output_type": "execute_result"
    }
   ],
   "source": [
    "classifier.fit_generator(\n",
    "    generator=x_train, steps_per_epoch=len(x_train),\n",
    "    epochs=20, validation_data=x_test, validation_steps=len(x_test)\n",
    ")"
   ]
  },
  {
   "cell_type": "markdown",
   "id": "91fb1d36",
   "metadata": {},
   "source": [
    "# Save The Model"
   ]
  },
  {
   "cell_type": "code",
   "execution_count": 12,
   "id": "6b54051a",
   "metadata": {},
   "outputs": [],
   "source": [
    "classifier.save('gesture.h5')"
   ]
  },
  {
   "cell_type": "code",
   "execution_count": 13,
   "id": "4c75c457",
   "metadata": {},
   "outputs": [],
   "source": [
    "model_json = classifier.to_json()\n",
    "with open(\"model-bw.json\", \"w\") as f:\n",
    "    f.write(model_json)"
   ]
  },
  {
   "cell_type": "markdown",
   "id": "aae00705",
   "metadata": {},
   "source": [
    "# Test the model"
   ]
  },
  {
   "cell_type": "markdown",
   "id": "8503cfc2",
   "metadata": {},
   "source": [
    "### Predicting our results"
   ]
  },
  {
   "cell_type": "code",
   "execution_count": 14,
   "id": "3cb7709b",
   "metadata": {},
   "outputs": [],
   "source": [
    "from tensorflow.keras.models import load_model\n",
    "from keras.preprocessing import image"
   ]
  },
  {
   "cell_type": "code",
   "execution_count": 15,
   "id": "5dc263e4",
   "metadata": {},
   "outputs": [],
   "source": [
    "model = load_model(\"gesture.h5\")"
   ]
  },
  {
   "cell_type": "code",
   "execution_count": 16,
   "id": "31eae807",
   "metadata": {},
   "outputs": [
    {
     "name": "stderr",
     "output_type": "stream",
     "text": [
      "C:\\Users\\Chinna\\anaconda3\\lib\\site-packages\\keras\\utils\\image_utils.py:409: UserWarning: grayscale is deprecated. Please use color_mode = \"grayscale\"\n",
      "  warnings.warn(\n"
     ]
    },
    {
     "name": "stdout",
     "output_type": "stream",
     "text": [
      "1/1 [==============================] - 0s 207ms/step\n"
     ]
    },
    {
     "data": {
      "text/plain": [
       "array([[0., 1., 0., 0., 0., 0.]], dtype=float32)"
      ]
     },
     "execution_count": 16,
     "metadata": {},
     "output_type": "execute_result"
    }
   ],
   "source": [
    "from tensorflow.keras.utils import load_img, img_to_array\n",
    "\n",
    "img = load_img(\"../Dataset/test/1/0.jpg\", grayscale=True, target_size=(64, 64))\n",
    "x = img_to_array(img)\n",
    "x = np.expand_dims(x,axis=0)\n",
    "pred = model.predict(x)\n",
    "\n",
    "pred"
   ]
  },
  {
   "cell_type": "code",
   "execution_count": 17,
   "id": "98541fc4",
   "metadata": {},
   "outputs": [
    {
     "data": {
      "text/plain": [
       "array([0., 1., 0., 0., 0., 0.], dtype=float32)"
      ]
     },
     "execution_count": 17,
     "metadata": {},
     "output_type": "execute_result"
    }
   ],
   "source": [
    "pred[0]"
   ]
  }
 ],
 "metadata": {
  "kernelspec": {
   "display_name": "Python 3 (ipykernel)",
   "language": "python",
   "name": "python3"
  },
  "language_info": {
   "codemirror_mode": {
    "name": "ipython",
    "version": 3
   },
   "file_extension": ".py",
   "mimetype": "text/x-python",
   "name": "python",
   "nbconvert_exporter": "python",
   "pygments_lexer": "ipython3",
   "version": "3.9.13"
  }
 },
 "nbformat": 4,
 "nbformat_minor": 5
}
