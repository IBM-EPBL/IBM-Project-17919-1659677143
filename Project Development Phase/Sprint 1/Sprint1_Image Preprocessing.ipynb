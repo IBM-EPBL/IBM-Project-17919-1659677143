{
 "cells": [
  {
   "cell_type": "markdown",
   "id": "4abd7323",
   "metadata": {},
   "source": [
    "# Image Preprocessing"
   ]
  },
  {
   "cell_type": "markdown",
   "id": "360a21d7",
   "metadata": {},
   "source": [
    "### Import The ImageDataGenerator Library"
   ]
  },
  {
   "cell_type": "code",
   "execution_count": 2,
   "id": "8585d191",
   "metadata": {},
   "outputs": [],
   "source": [
    "from keras.preprocessing.image import ImageDataGenerator"
   ]
  },
  {
   "cell_type": "markdown",
   "id": "a16443bd",
   "metadata": {},
   "source": [
    "### Configure ImageDataGenerator Class"
   ]
  },
  {
   "cell_type": "code",
   "execution_count": 3,
   "id": "02b73a4a",
   "metadata": {},
   "outputs": [],
   "source": [
    "train_datagen = ImageDataGenerator(rescale=1./255,shear_range=0.2,zoom_range=0.2,horizontal_flip=True)\n",
    "test_datagen = ImageDataGenerator(rescale=1./255)"
   ]
  },
  {
   "cell_type": "markdown",
   "id": "9ea78d59",
   "metadata": {},
   "source": [
    "### Apply ImageDataGenerator Functionality To Trainset And Testset"
   ]
  },
  {
   "cell_type": "markdown",
   "id": "dd1b2348",
   "metadata": {},
   "source": [
    "###### Loading our data and performing data agumentation"
   ]
  },
  {
   "cell_type": "code",
   "execution_count": 5,
   "id": "fb65a624",
   "metadata": {},
   "outputs": [
    {
     "name": "stdout",
     "output_type": "stream",
     "text": [
      "Found 30 images belonging to 6 classes.\n",
      "Found 594 images belonging to 6 classes.\n"
     ]
    }
   ],
   "source": [
    "x_train = train_datagen.flow_from_directory('../Dataset/test', \n",
    "                                            target_size=(64, 64), batch_size=5, color_mode='grayscale', class_mode='categorical')\n",
    "x_test = test_datagen.flow_from_directory('../Dataset/train', \n",
    "                                          target_size=(64, 64), batch_size=5, color_mode='grayscale', class_mode='categorical')"
   ]
  }
 ],
 "metadata": {
  "kernelspec": {
   "display_name": "Python 3 (ipykernel)",
   "language": "python",
   "name": "python3"
  },
  "language_info": {
   "codemirror_mode": {
    "name": "ipython",
    "version": 3
   },
   "file_extension": ".py",
   "mimetype": "text/x-python",
   "name": "python",
   "nbconvert_exporter": "python",
   "pygments_lexer": "ipython3",
   "version": "3.9.13"
  }
 },
 "nbformat": 4,
 "nbformat_minor": 5
}
